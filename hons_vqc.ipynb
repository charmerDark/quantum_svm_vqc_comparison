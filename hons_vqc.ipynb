{
  "nbformat": 4,
  "nbformat_minor": 0,
  "metadata": {
    "colab": {
      "name": "hons_vqc.ipynb",
      "provenance": [],
      "collapsed_sections": [],
      "authorship_tag": "ABX9TyPcyo+ZabO4uH2fLYK8a0Ib",
      "include_colab_link": true
    },
    "kernelspec": {
      "name": "python3",
      "display_name": "Python 3"
    },
    "language_info": {
      "name": "python"
    }
  },
  "cells": [
    {
      "cell_type": "markdown",
      "metadata": {
        "id": "view-in-github",
        "colab_type": "text"
      },
      "source": [
        "<a href=\"https://colab.research.google.com/github/charmerDark/quantum_svm_vqc_comparison/blob/main/hons_vqc.ipynb\" target=\"_parent\"><img src=\"https://colab.research.google.com/assets/colab-badge.svg\" alt=\"Open In Colab\"/></a>"
      ]
    },
    {
      "cell_type": "code",
      "metadata": {
        "id": "JtSV8-8I0IOH",
        "colab": {
          "base_uri": "https://localhost:8080/"
        },
        "outputId": "0941f921-86e2-4fe6-d04e-817051432249"
      },
      "source": [
        "!pip install qiskit"
      ],
      "execution_count": 2,
      "outputs": [
        {
          "output_type": "stream",
          "text": [
            "Collecting qiskit\n",
            "  Downloading https://files.pythonhosted.org/packages/ab/05/b9f82e569f1d4c39cd856c2fd04c716999b0e7a7a395a7fd2b1c48d40e68/qiskit-0.25.0.tar.gz\n",
            "Collecting qiskit-terra==0.17.0\n",
            "\u001b[?25l  Downloading https://files.pythonhosted.org/packages/26/50/39921a9aa428e3bb0ca1d646ad72e40d87e82699054b33344d9cf4e54a17/qiskit_terra-0.17.0-cp37-cp37m-manylinux2010_x86_64.whl (6.0MB)\n",
            "\u001b[K     |████████████████████████████████| 6.0MB 13.3MB/s \n",
            "\u001b[?25hCollecting qiskit-aer==0.8.0\n",
            "\u001b[?25l  Downloading https://files.pythonhosted.org/packages/ed/a0/93b1c1efb6e55185c9af446c2ed44b050a0675045eedae52d1f5c0247cf2/qiskit_aer-0.8.0-cp37-cp37m-manylinux2010_x86_64.whl (17.9MB)\n",
            "\u001b[K     |████████████████████████████████| 17.9MB 230kB/s \n",
            "\u001b[?25hCollecting qiskit-ibmq-provider==0.12.2\n",
            "\u001b[?25l  Downloading https://files.pythonhosted.org/packages/08/ac/69bb35892303c3a4a52eaaf7ea95431dd3f57963b580a011ee92693a7fcc/qiskit_ibmq_provider-0.12.2-py3-none-any.whl (198kB)\n",
            "\u001b[K     |████████████████████████████████| 204kB 44.3MB/s \n",
            "\u001b[?25hCollecting qiskit-ignis==0.6.0\n",
            "\u001b[?25l  Downloading https://files.pythonhosted.org/packages/54/be/a13c828e457e09d979667a61bddbd8c7246aafa94e2501b6a9154429cbea/qiskit_ignis-0.6.0-py3-none-any.whl (207kB)\n",
            "\u001b[K     |████████████████████████████████| 215kB 42.4MB/s \n",
            "\u001b[?25hCollecting qiskit-aqua==0.9.0\n",
            "\u001b[?25l  Downloading https://files.pythonhosted.org/packages/86/26/8d89e8ecb8d21f555496a0db80a5299dd663443a971e9fb4089efc7c5aef/qiskit_aqua-0.9.0-py3-none-any.whl (2.1MB)\n",
            "\u001b[K     |████████████████████████████████| 2.1MB 42.4MB/s \n",
            "\u001b[?25hRequirement already satisfied: psutil>=5 in /usr/local/lib/python3.7/dist-packages (from qiskit-terra==0.17.0->qiskit) (5.4.8)\n",
            "Requirement already satisfied: sympy>=1.3 in /usr/local/lib/python3.7/dist-packages (from qiskit-terra==0.17.0->qiskit) (1.7.1)\n",
            "Requirement already satisfied: jsonschema>=2.6 in /usr/local/lib/python3.7/dist-packages (from qiskit-terra==0.17.0->qiskit) (2.6.0)\n",
            "Requirement already satisfied: numpy>=1.17 in /usr/local/lib/python3.7/dist-packages (from qiskit-terra==0.17.0->qiskit) (1.19.5)\n",
            "Requirement already satisfied: python-dateutil>=2.8.0 in /usr/local/lib/python3.7/dist-packages (from qiskit-terra==0.17.0->qiskit) (2.8.1)\n",
            "Collecting ply>=3.10\n",
            "\u001b[?25l  Downloading https://files.pythonhosted.org/packages/a3/58/35da89ee790598a0700ea49b2a66594140f44dec458c07e8e3d4979137fc/ply-3.11-py2.py3-none-any.whl (49kB)\n",
            "\u001b[K     |████████████████████████████████| 51kB 4.9MB/s \n",
            "\u001b[?25hRequirement already satisfied: scipy>=1.4 in /usr/local/lib/python3.7/dist-packages (from qiskit-terra==0.17.0->qiskit) (1.4.1)\n",
            "Collecting fastjsonschema>=2.10\n",
            "  Downloading https://files.pythonhosted.org/packages/89/1c/8be51fa42aadc1c1611a52b866e1a5a1032a504f24789cf140b4e6d7c940/fastjsonschema-2.15.0-py3-none-any.whl\n",
            "Collecting python-constraint>=1.4\n",
            "  Downloading https://files.pythonhosted.org/packages/37/8b/5f1bc2734ca611943e1d6733ee244238679f6410a10cd45ede55a61a8402/python-constraint-1.4.0.tar.bz2\n",
            "Requirement already satisfied: dill>=0.3 in /usr/local/lib/python3.7/dist-packages (from qiskit-terra==0.17.0->qiskit) (0.3.3)\n",
            "Collecting retworkx>=0.8.0\n",
            "\u001b[?25l  Downloading https://files.pythonhosted.org/packages/1b/92/f007f8b9d88dcd5b90e363967e5d54431a68c5fe06d83400732e3b438084/retworkx-0.8.0-cp37-cp37m-manylinux2010_x86_64.whl (1.0MB)\n",
            "\u001b[K     |████████████████████████████████| 1.0MB 36.4MB/s \n",
            "\u001b[?25hCollecting pybind11>=2.6\n",
            "\u001b[?25l  Downloading https://files.pythonhosted.org/packages/8d/43/7339dbabbc2793718d59703aace4166f53c29ee1c202f6ff5bf8a26c4d91/pybind11-2.6.2-py2.py3-none-any.whl (191kB)\n",
            "\u001b[K     |████████████████████████████████| 194kB 53.2MB/s \n",
            "\u001b[?25hRequirement already satisfied: nest-asyncio!=1.1.0,>=1.0.0 in /usr/local/lib/python3.7/dist-packages (from qiskit-ibmq-provider==0.12.2->qiskit) (1.5.1)\n",
            "Requirement already satisfied: requests>=2.19 in /usr/local/lib/python3.7/dist-packages (from qiskit-ibmq-provider==0.12.2->qiskit) (2.23.0)\n",
            "Collecting requests-ntlm>=1.1.0\n",
            "  Downloading https://files.pythonhosted.org/packages/03/4b/8b9a1afde8072c4d5710d9fa91433d504325821b038e00237dc8d6d833dc/requests_ntlm-1.1.0-py2.py3-none-any.whl\n",
            "Collecting websockets>=8\n",
            "\u001b[?25l  Downloading https://files.pythonhosted.org/packages/5a/0b/3ebc752392a368af14dd24ee041683416ac6d2463eead94b311b11e41c82/websockets-8.1-cp37-cp37m-manylinux2010_x86_64.whl (79kB)\n",
            "\u001b[K     |████████████████████████████████| 81kB 8.0MB/s \n",
            "\u001b[?25hRequirement already satisfied: urllib3>=1.21.1 in /usr/local/lib/python3.7/dist-packages (from qiskit-ibmq-provider==0.12.2->qiskit) (1.24.3)\n",
            "Requirement already satisfied: setuptools>=40.1.0 in /usr/local/lib/python3.7/dist-packages (from qiskit-ignis==0.6.0->qiskit) (54.2.0)\n",
            "Collecting quandl<=3.6.0\n",
            "  Downloading https://files.pythonhosted.org/packages/c2/58/9f0e69d836045e3865d263e9ed49f42b23a58526fdabb30f74c430baee3f/Quandl-3.6.0-py2.py3-none-any.whl\n",
            "Requirement already satisfied: scikit-learn<=0.24.1,>=0.20.0 in /usr/local/lib/python3.7/dist-packages (from qiskit-aqua==0.9.0->qiskit) (0.22.2.post1)\n",
            "Requirement already satisfied: pandas<=1.2.3 in /usr/local/lib/python3.7/dist-packages (from qiskit-aqua==0.9.0->qiskit) (1.1.5)\n",
            "Requirement already satisfied: fastdtw<=0.3.4 in /usr/local/lib/python3.7/dist-packages (from qiskit-aqua==0.9.0->qiskit) (0.3.4)\n",
            "Collecting yfinance<=0.1.55\n",
            "  Downloading https://files.pythonhosted.org/packages/7a/e8/b9d7104d3a4bf39924799067592d9e59119fcfc900a425a12e80a3123ec8/yfinance-0.1.55.tar.gz\n",
            "Collecting dlx<=1.0.4\n",
            "  Downloading https://files.pythonhosted.org/packages/54/c0/b8fb5bb727e983b6f5251433ef941b48f38c65bb0bd6ec509e9185bcd406/dlx-1.0.4.tar.gz\n",
            "Collecting docplex<=2.20.204; sys_platform != \"darwin\"\n",
            "\u001b[?25l  Downloading https://files.pythonhosted.org/packages/87/99/6f7c219b39fd58c84688ad0713eb932bfcf6be81fc74519e43ea9c915b56/docplex-2.20.204.tar.gz (611kB)\n",
            "\u001b[K     |████████████████████████████████| 614kB 40.9MB/s \n",
            "\u001b[?25hRequirement already satisfied: h5py<=3.1.0 in /usr/local/lib/python3.7/dist-packages (from qiskit-aqua==0.9.0->qiskit) (2.10.0)\n",
            "Requirement already satisfied: mpmath>=0.19 in /usr/local/lib/python3.7/dist-packages (from sympy>=1.3->qiskit-terra==0.17.0->qiskit) (1.2.1)\n",
            "Requirement already satisfied: six>=1.5 in /usr/local/lib/python3.7/dist-packages (from python-dateutil>=2.8.0->qiskit-terra==0.17.0->qiskit) (1.15.0)\n",
            "Requirement already satisfied: certifi>=2017.4.17 in /usr/local/lib/python3.7/dist-packages (from requests>=2.19->qiskit-ibmq-provider==0.12.2->qiskit) (2020.12.5)\n",
            "Requirement already satisfied: idna<3,>=2.5 in /usr/local/lib/python3.7/dist-packages (from requests>=2.19->qiskit-ibmq-provider==0.12.2->qiskit) (2.10)\n",
            "Requirement already satisfied: chardet<4,>=3.0.2 in /usr/local/lib/python3.7/dist-packages (from requests>=2.19->qiskit-ibmq-provider==0.12.2->qiskit) (3.0.4)\n",
            "Collecting ntlm-auth>=1.0.2\n",
            "  Downloading https://files.pythonhosted.org/packages/ff/84/97c550164b54942b0e908c31ef09d9469f3ba4cd7332a671e2125732f63b/ntlm_auth-1.5.0-py2.py3-none-any.whl\n",
            "Collecting cryptography>=1.3\n",
            "\u001b[?25l  Downloading https://files.pythonhosted.org/packages/b2/26/7af637e6a7e87258b963f1731c5982fb31cd507f0d90d91836e446955d02/cryptography-3.4.7-cp36-abi3-manylinux2014_x86_64.whl (3.2MB)\n",
            "\u001b[K     |████████████████████████████████| 3.2MB 37.9MB/s \n",
            "\u001b[?25hCollecting inflection>=0.3.1\n",
            "  Downloading https://files.pythonhosted.org/packages/59/91/aa6bde563e0085a02a435aa99b49ef75b0a4b062635e606dab23ce18d720/inflection-0.5.1-py2.py3-none-any.whl\n",
            "Requirement already satisfied: more-itertools in /usr/local/lib/python3.7/dist-packages (from quandl<=3.6.0->qiskit-aqua==0.9.0->qiskit) (8.7.0)\n",
            "Requirement already satisfied: joblib>=0.11 in /usr/local/lib/python3.7/dist-packages (from scikit-learn<=0.24.1,>=0.20.0->qiskit-aqua==0.9.0->qiskit) (1.0.1)\n",
            "Requirement already satisfied: pytz>=2017.2 in /usr/local/lib/python3.7/dist-packages (from pandas<=1.2.3->qiskit-aqua==0.9.0->qiskit) (2018.9)\n",
            "Requirement already satisfied: multitasking>=0.0.7 in /usr/local/lib/python3.7/dist-packages (from yfinance<=0.1.55->qiskit-aqua==0.9.0->qiskit) (0.0.9)\n",
            "Collecting lxml>=4.5.1\n",
            "\u001b[?25l  Downloading https://files.pythonhosted.org/packages/cf/4d/6537313bf58fe22b508f08cf3eb86b29b6f9edf68e00454224539421073b/lxml-4.6.3-cp37-cp37m-manylinux1_x86_64.whl (5.5MB)\n",
            "\u001b[K     |████████████████████████████████| 5.5MB 43.8MB/s \n",
            "\u001b[?25hRequirement already satisfied: cffi>=1.12 in /usr/local/lib/python3.7/dist-packages (from cryptography>=1.3->requests-ntlm>=1.1.0->qiskit-ibmq-provider==0.12.2->qiskit) (1.14.5)\n",
            "Requirement already satisfied: pycparser in /usr/local/lib/python3.7/dist-packages (from cffi>=1.12->cryptography>=1.3->requests-ntlm>=1.1.0->qiskit-ibmq-provider==0.12.2->qiskit) (2.20)\n",
            "Building wheels for collected packages: qiskit, python-constraint, yfinance, dlx, docplex\n",
            "  Building wheel for qiskit (setup.py) ... \u001b[?25l\u001b[?25hdone\n",
            "  Created wheel for qiskit: filename=qiskit-0.25.0-cp37-none-any.whl size=3032 sha256=bd9ed1854661fc5bbedca5b27eaadb43274beef9a59100643f76bf8183563671\n",
            "  Stored in directory: /root/.cache/pip/wheels/09/6e/f1/a7eaab6e3943d749f1b257f462f60fbc402b0c8e870b555169\n",
            "  Building wheel for python-constraint (setup.py) ... \u001b[?25l\u001b[?25hdone\n",
            "  Created wheel for python-constraint: filename=python_constraint-1.4.0-py2.py3-none-any.whl size=24079 sha256=c10ef798e8300679d3f6c19b7d35d72659e24b5725dfb91885537f3e456cee32\n",
            "  Stored in directory: /root/.cache/pip/wheels/34/31/15/7b070b25d0a549d20ce2e9fe6d727471c2c61ef904720fd40c\n",
            "  Building wheel for yfinance (setup.py) ... \u001b[?25l\u001b[?25hdone\n",
            "  Created wheel for yfinance: filename=yfinance-0.1.55-py2.py3-none-any.whl size=22616 sha256=238d00ee361319b34a584800ff492231426eed70b361a2c43bce46acf5b1f1f2\n",
            "  Stored in directory: /root/.cache/pip/wheels/04/98/cc/2702a4242d60bdc14f48b4557c427ded1fe92aedf257d4565c\n",
            "  Building wheel for dlx (setup.py) ... \u001b[?25l\u001b[?25hdone\n",
            "  Created wheel for dlx: filename=dlx-1.0.4-cp37-none-any.whl size=5712 sha256=31e657f5b05376f43942320f323e4b11d090fecf09f25c684f9da020b156d00b\n",
            "  Stored in directory: /root/.cache/pip/wheels/bb/ba/15/fdd0deb104df3254912998150ba9245668db06b00af5912d1a\n",
            "  Building wheel for docplex (setup.py) ... \u001b[?25l\u001b[?25hdone\n",
            "  Created wheel for docplex: filename=docplex-2.20.204-cp37-none-any.whl size=675362 sha256=fc57801d30a3be5977d6c15d001999799d2336a5720425151dbeb70ba2a4e966\n",
            "  Stored in directory: /root/.cache/pip/wheels/ae/2c/e2/a099ebb6fda8adeba9c5fc2e25659d195ad2f5c6cc5fb75fd4\n",
            "Successfully built qiskit python-constraint yfinance dlx docplex\n",
            "Installing collected packages: ply, fastjsonschema, python-constraint, retworkx, qiskit-terra, pybind11, qiskit-aer, ntlm-auth, cryptography, requests-ntlm, websockets, qiskit-ibmq-provider, qiskit-ignis, inflection, quandl, lxml, yfinance, dlx, docplex, qiskit-aqua, qiskit\n",
            "  Found existing installation: lxml 4.2.6\n",
            "    Uninstalling lxml-4.2.6:\n",
            "      Successfully uninstalled lxml-4.2.6\n",
            "Successfully installed cryptography-3.4.7 dlx-1.0.4 docplex-2.20.204 fastjsonschema-2.15.0 inflection-0.5.1 lxml-4.6.3 ntlm-auth-1.5.0 ply-3.11 pybind11-2.6.2 python-constraint-1.4.0 qiskit-0.25.0 qiskit-aer-0.8.0 qiskit-aqua-0.9.0 qiskit-ibmq-provider-0.12.2 qiskit-ignis-0.6.0 qiskit-terra-0.17.0 quandl-3.6.0 requests-ntlm-1.1.0 retworkx-0.8.0 websockets-8.1 yfinance-0.1.55\n"
          ],
          "name": "stdout"
        }
      ]
    },
    {
      "cell_type": "code",
      "metadata": {
        "colab": {
          "base_uri": "https://localhost:8080/"
        },
        "id": "jo5wQl2o0W_e",
        "outputId": "24bb2576-dbb5-4dee-8251-484ea0ddadcb"
      },
      "source": [
        "import numpy as np\n",
        "\n",
        "from qiskit import BasicAer\n",
        "from qiskit.aqua import QuantumInstance, aqua_globals\n",
        "from qiskit.aqua.algorithms import VQC\n",
        "from qiskit.aqua.components.optimizers import SPSA\n",
        "from qiskit.circuit.library import TwoLocal, ZFeatureMap,EfficientSU2\n",
        "from qiskit.aqua.utils import split_dataset_to_data_and_labels, map_label_to_class_name\n",
        "\n",
        "from sklearn import datasets\n",
        "from sklearn.model_selection import train_test_split\n",
        "from sklearn.preprocessing import StandardScaler, MinMaxScaler\n",
        "from sklearn.metrics import classification_report\n",
        "\n",
        "import time\n",
        "\n",
        "seed = 10599\n",
        "aqua_globals.random_seed = seed"
      ],
      "execution_count": 3,
      "outputs": [
        {
          "output_type": "stream",
          "text": [
            "/usr/local/lib/python3.7/dist-packages/ipykernel_launcher.py:18: DeprecationWarning: The variable qiskit.aqua.aqua_globals is deprecated. It was moved/refactored to qiskit.utils.aqua_globals (pip install qiskit-terra). For more information see <https://github.com/Qiskit/qiskit-aqua/blob/master/README.md#migration-guide>\n"
          ],
          "name": "stderr"
        }
      ]
    },
    {
      "cell_type": "code",
      "metadata": {
        "id": "eKKWVEgfMn4d"
      },
      "source": [
        "class circuit_result():\n",
        "  '''\n",
        "  class to store details of each circuit and later pickle it\n",
        "  '''\n",
        "  def details(self):\n",
        "    print(\"Circuit type is: \\t\",self.circuit_type)\n",
        "    print(\"feature_map used is :\\t\",self.feature_map)\n",
        "    print(\"The paulis used were: \\t\",self.paulis)\n",
        "    print(\"The entanglement layout is \\t\",self.entanglement)\n",
        "    print(\"The repititions of feature map: \\t\",self.reps)\n",
        "    print(\"running time is : \\t\",self.running_time)\n",
        "    print(\"Accuracy report: \\n\",accuracy)\n",
        "    print(\"Circuit Depth: \\t\", self.depth)\n",
        "    print(\"Number of operations \\t\",self.count_ops)\n",
        "\n",
        "\n",
        "  def __init__(self,circuit_type,feature_map,time,accuracy,depth,count_ops,paulis,reps,entanglement):\n",
        "    self.circuit_type=circuit_type\n",
        "    self.feature_map=feature_map\n",
        "    self.running_time=time\n",
        "    self.accuracy=accuracy\n",
        "    self.depth=depth\n",
        "    self.count_ops=count_ops\n",
        "    self.paulis=paulis\n",
        "    self.reps=reps\n",
        "    self.entanglement=entanglement"
      ],
      "execution_count": 4,
      "outputs": []
    },
    {
      "cell_type": "code",
      "metadata": {
        "id": "gJEahKJ800Td"
      },
      "source": [
        "training_size=120\n",
        "test_size=30\n",
        "class_labels = [r'A', r'B', r'C']\n",
        "data, target = datasets.load_iris(return_X_y=True)\n",
        "sample_train, sample_test, label_train, label_test =train_test_split(data, target, test_size=30, random_state=42)\n",
        "std_scale = StandardScaler().fit(sample_train)\n",
        "sample_train = std_scale.transform(sample_train)\n",
        "sample_test = std_scale.transform(sample_test)\n",
        "samples = np.append(sample_train, sample_test, axis=0)\n",
        "minmax_scale = MinMaxScaler((-1, 1)).fit(samples)\n",
        "sample_train = minmax_scale.transform(sample_train)\n",
        "sample_test = minmax_scale.transform(sample_test)\n",
        "training_input = {key: (sample_train[label_train == k, :])[:training_size]\n",
        "                      for k, key in enumerate(class_labels)}\n",
        "test_input = {key: (sample_test[label_test == k, :])[:test_size]\n",
        "                  for k, key in enumerate(class_labels)}"
      ],
      "execution_count": 5,
      "outputs": []
    },
    {
      "cell_type": "code",
      "metadata": {
        "colab": {
          "base_uri": "https://localhost:8080/"
        },
        "id": "28hghpWu1g1d",
        "outputId": "15a31dbd-6135-48b9-dde1-aeb1d7b39267"
      },
      "source": [
        "feature_map = ZFeatureMap(feature_dimension=4, reps=1)\n",
        "optimizer = SPSA(maxiter=80)\n",
        "var_form = TwoLocal(4, ['ry','rz'], 'crz', reps=3,entanglement='circular')\n",
        "vqc = VQC(optimizer, feature_map, var_form, training_input, test_input)\n",
        "\n",
        "backend = BasicAer.get_backend('qasm_simulator')\n",
        "quantum_instance = QuantumInstance(backend, shots=1024, seed_simulator=seed, seed_transpiler=seed)\n",
        "\n",
        "start=time.time()\n",
        "result = vqc.run(quantum_instance)\n",
        "end= time.time()\n",
        "print(\"training took \",end-start)\n",
        "params=vqc.optimal_params\n",
        "y_pred=vqc.predict(sample_test,quantum_instance,params=params)\n",
        "accuracy=classification_report(y_pred[1],label_test)\n",
        "print(accuracy)"
      ],
      "execution_count": null,
      "outputs": [
        {
          "output_type": "stream",
          "text": [
            "/usr/local/lib/python3.7/dist-packages/qiskit/aqua/components/optimizers/optimizer.py:50: DeprecationWarning: The package qiskit.aqua.components.optimizers is deprecated. It was moved/refactored to qiskit.algorithms.optimizers (pip install qiskit-terra). For more information see <https://github.com/Qiskit/qiskit-aqua/blob/master/README.md#migration-guide>\n",
            "  'qiskit.algorithms.optimizers', 'qiskit-terra')\n",
            "/usr/local/lib/python3.7/dist-packages/qiskit/aqua/algorithms/classifiers/vqc.py:98: DeprecationWarning: The package qiskit.aqua.algorithms.classifiers is deprecated. It was moved/refactored to qiskit_machine_learning.algorithms.classifiers (pip install qiskit-machine-learning). For more information see <https://github.com/Qiskit/qiskit-aqua/blob/master/README.md#migration-guide>\n",
            "  'qiskit-machine-learning')\n",
            "/usr/local/lib/python3.7/dist-packages/qiskit/aqua/algorithms/vq_algorithm.py:72: DeprecationWarning: The class qiskit.aqua.algorithms.VQAlgorithm is deprecated. It was moved/refactored to qiskit.algorithms.VariationalAlgorithm (pip install qiskit-terra). For more information see <https://github.com/Qiskit/qiskit-aqua/blob/master/README.md#migration-guide>\n",
            "  'qiskit-terra')\n",
            "/usr/local/lib/python3.7/dist-packages/qiskit/aqua/quantum_instance.py:137: DeprecationWarning: The class qiskit.aqua.QuantumInstance is deprecated. It was moved/refactored to qiskit.utils.QuantumInstance (pip install qiskit-terra). For more information see <https://github.com/Qiskit/qiskit-aqua/blob/master/README.md#migration-guide>\n",
            "  'qiskit-terra')\n",
            "/usr/local/lib/python3.7/dist-packages/qiskit/ml/__init__.py:40: DeprecationWarning: The package qiskit.ml is deprecated. It was moved/refactored to qiskit_machine_learning (pip install qiskit-machine-learning). For more information see <https://github.com/Qiskit/qiskit-aqua/blob/master/README.md#migration-guide>\n",
            "  warn_package('ml', 'qiskit_machine_learning', 'qiskit-machine-learning')\n"
          ],
          "name": "stderr"
        },
        {
          "output_type": "stream",
          "text": [
            "training took  543.2600898742676\n",
            "              precision    recall  f1-score   support\n",
            "\n",
            "           0       1.00      1.00      1.00        10\n",
            "           1       0.89      0.89      0.89         9\n",
            "           2       0.91      0.91      0.91        11\n",
            "\n",
            "    accuracy                           0.93        30\n",
            "   macro avg       0.93      0.93      0.93        30\n",
            "weighted avg       0.93      0.93      0.93        30\n",
            "\n"
          ],
          "name": "stdout"
        }
      ]
    },
    {
      "cell_type": "code",
      "metadata": {
        "id": "yyZPxZnOAsmW"
      },
      "source": [
        ""
      ],
      "execution_count": null,
      "outputs": []
    },
    {
      "cell_type": "code",
      "metadata": {
        "colab": {
          "base_uri": "https://localhost:8080/"
        },
        "id": "FG-ZnVxaAFSV",
        "outputId": "a05c0e0d-eb40-4ba8-cb7a-8c02d7069902"
      },
      "source": [
        "feature_map = ZFeatureMap(feature_dimension=4, reps=1)\n",
        "optimizer = SPSA(maxiter=80)\n",
        "var_form = EfficientSU2(4,reps=3)\n",
        "vqc = VQC(optimizer, feature_map, var_form, training_input, test_input)\n",
        "\n",
        "backend = BasicAer.get_backend('qasm_simulator')\n",
        "quantum_instance = QuantumInstance(backend, shots=1024, seed_simulator=seed, seed_transpiler=seed)\n",
        "\n",
        "start=time.time()\n",
        "result = vqc.run(quantum_instance)\n",
        "end= time.time()\n",
        "print(\"training took \",end-start)\n",
        "params=vqc.optimal_params\n",
        "y_pred=vqc.predict(sample_test,quantum_instance,params=params)\n",
        "accuracy=classification_report(y_pred[1],label_test)\n",
        "print(accuracy)"
      ],
      "execution_count": null,
      "outputs": [
        {
          "output_type": "stream",
          "text": [
            "training took  406.8485155105591\n",
            "              precision    recall  f1-score   support\n",
            "\n",
            "           0       1.00      1.00      1.00        10\n",
            "           1       0.89      0.73      0.80        11\n",
            "           2       0.73      0.89      0.80         9\n",
            "\n",
            "    accuracy                           0.87        30\n",
            "   macro avg       0.87      0.87      0.87        30\n",
            "weighted avg       0.88      0.87      0.87        30\n",
            "\n"
          ],
          "name": "stdout"
        }
      ]
    },
    {
      "cell_type": "code",
      "metadata": {
        "colab": {
          "base_uri": "https://localhost:8080/",
          "height": 571
        },
        "id": "3MeMUkV99CyY",
        "outputId": "1a85721a-d778-42e0-a391-6f426e523833"
      },
      "source": [
        "TwoLocal(4, ['ry','rz'], 'crz', reps=3,entanglement='sca',insert_barriers=True).draw()"
      ],
      "execution_count": null,
      "outputs": [
        {
          "output_type": "execute_result",
          "data": {
            "text/html": [
              "<pre style=\"word-wrap: normal;white-space: pre;background: #fff0;line-height: 1.1;font-family: &quot;Courier New&quot;,Courier,monospace\">     ┌──────────┐┌──────────┐ ░ ┌──────────┐                         »\n",
              "q_0: ┤ RY(θ[0]) ├┤ RZ(θ[4]) ├─░─┤ RZ(θ[8]) ├─────■───────────────────»\n",
              "     ├──────────┤├──────────┤ ░ └────┬─────┘┌────┴─────┐             »\n",
              "q_1: ┤ RY(θ[1]) ├┤ RZ(θ[5]) ├─░──────┼──────┤ RZ(θ[9]) ├──────■──────»\n",
              "     ├──────────┤├──────────┤ ░      │      └──────────┘┌─────┴─────┐»\n",
              "q_2: ┤ RY(θ[2]) ├┤ RZ(θ[6]) ├─░──────┼──────────────────┤ RZ(θ[10]) ├»\n",
              "     ├──────────┤├──────────┤ ░      │                  └───────────┘»\n",
              "q_3: ┤ RY(θ[3]) ├┤ RZ(θ[7]) ├─░──────■───────────────────────────────»\n",
              "     └──────────┘└──────────┘ ░                                      »\n",
              "«                   ░ ┌───────────┐┌───────────┐ ░                           »\n",
              "«q_0: ──────────────░─┤ RY(θ[12]) ├┤ RZ(θ[16]) ├─░────────────────────■──────»\n",
              "«                   ░ ├───────────┤├───────────┤ ░                    │      »\n",
              "«q_1: ──────────────░─┤ RY(θ[13]) ├┤ RZ(θ[17]) ├─░────────────────────┼──────»\n",
              "«                   ░ ├───────────┤├───────────┤ ░ ┌───────────┐      │      »\n",
              "«q_2: ──────■───────░─┤ RY(θ[14]) ├┤ RZ(θ[18]) ├─░─┤ RZ(θ[20]) ├──────┼──────»\n",
              "«     ┌─────┴─────┐ ░ ├───────────┤├───────────┤ ░ └─────┬─────┘┌─────┴─────┐»\n",
              "«q_3: ┤ RZ(θ[11]) ├─░─┤ RY(θ[15]) ├┤ RZ(θ[19]) ├─░───────■──────┤ RZ(θ[21]) ├»\n",
              "«     └───────────┘ ░ └───────────┘└───────────┘ ░              └───────────┘»\n",
              "«     ┌───────────┐              ░ ┌───────────┐┌───────────┐ ░              »\n",
              "«q_0: ┤ RZ(θ[22]) ├──────────────░─┤ RY(θ[24]) ├┤ RZ(θ[28]) ├─░──────────────»\n",
              "«     └─────┬─────┘┌───────────┐ ░ ├───────────┤├───────────┤ ░              »\n",
              "«q_1: ──────■──────┤ RZ(θ[23]) ├─░─┤ RY(θ[25]) ├┤ RZ(θ[29]) ├─░───────■──────»\n",
              "«                  └─────┬─────┘ ░ ├───────────┤├───────────┤ ░ ┌─────┴─────┐»\n",
              "«q_2: ───────────────────■───────░─┤ RY(θ[26]) ├┤ RZ(θ[30]) ├─░─┤ RZ(θ[32]) ├»\n",
              "«                                ░ ├───────────┤├───────────┤ ░ └───────────┘»\n",
              "«q_3: ───────────────────────────░─┤ RY(θ[27]) ├┤ RZ(θ[31]) ├─░──────────────»\n",
              "«                                ░ └───────────┘└───────────┘ ░              »\n",
              "«                  ┌───────────┐              ░ ┌───────────┐┌───────────┐\n",
              "«q_0: ─────────────┤ RZ(θ[34]) ├──────■───────░─┤ RY(θ[36]) ├┤ RZ(θ[40]) ├\n",
              "«                  └─────┬─────┘┌─────┴─────┐ ░ ├───────────┤├───────────┤\n",
              "«q_1: ───────────────────┼──────┤ RZ(θ[35]) ├─░─┤ RY(θ[37]) ├┤ RZ(θ[41]) ├\n",
              "«                        │      └───────────┘ ░ ├───────────┤├───────────┤\n",
              "«q_2: ──────■────────────┼────────────────────░─┤ RY(θ[38]) ├┤ RZ(θ[42]) ├\n",
              "«     ┌─────┴─────┐      │                    ░ ├───────────┤├───────────┤\n",
              "«q_3: ┤ RZ(θ[33]) ├──────■────────────────────░─┤ RY(θ[39]) ├┤ RZ(θ[43]) ├\n",
              "«     └───────────┘                           ░ └───────────┘└───────────┘</pre>"
            ],
            "text/plain": [
              "     ┌──────────┐┌──────────┐ ░ ┌──────────┐                         »\n",
              "q_0: ┤ RY(θ[0]) ├┤ RZ(θ[4]) ├─░─┤ RZ(θ[8]) ├─────■───────────────────»\n",
              "     ├──────────┤├──────────┤ ░ └────┬─────┘┌────┴─────┐             »\n",
              "q_1: ┤ RY(θ[1]) ├┤ RZ(θ[5]) ├─░──────┼──────┤ RZ(θ[9]) ├──────■──────»\n",
              "     ├──────────┤├──────────┤ ░      │      └──────────┘┌─────┴─────┐»\n",
              "q_2: ┤ RY(θ[2]) ├┤ RZ(θ[6]) ├─░──────┼──────────────────┤ RZ(θ[10]) ├»\n",
              "     ├──────────┤├──────────┤ ░      │                  └───────────┘»\n",
              "q_3: ┤ RY(θ[3]) ├┤ RZ(θ[7]) ├─░──────■───────────────────────────────»\n",
              "     └──────────┘└──────────┘ ░                                      »\n",
              "«                   ░ ┌───────────┐┌───────────┐ ░                           »\n",
              "«q_0: ──────────────░─┤ RY(θ[12]) ├┤ RZ(θ[16]) ├─░────────────────────■──────»\n",
              "«                   ░ ├───────────┤├───────────┤ ░                    │      »\n",
              "«q_1: ──────────────░─┤ RY(θ[13]) ├┤ RZ(θ[17]) ├─░────────────────────┼──────»\n",
              "«                   ░ ├───────────┤├───────────┤ ░ ┌───────────┐      │      »\n",
              "«q_2: ──────■───────░─┤ RY(θ[14]) ├┤ RZ(θ[18]) ├─░─┤ RZ(θ[20]) ├──────┼──────»\n",
              "«     ┌─────┴─────┐ ░ ├───────────┤├───────────┤ ░ └─────┬─────┘┌─────┴─────┐»\n",
              "«q_3: ┤ RZ(θ[11]) ├─░─┤ RY(θ[15]) ├┤ RZ(θ[19]) ├─░───────■──────┤ RZ(θ[21]) ├»\n",
              "«     └───────────┘ ░ └───────────┘└───────────┘ ░              └───────────┘»\n",
              "«     ┌───────────┐              ░ ┌───────────┐┌───────────┐ ░              »\n",
              "«q_0: ┤ RZ(θ[22]) ├──────────────░─┤ RY(θ[24]) ├┤ RZ(θ[28]) ├─░──────────────»\n",
              "«     └─────┬─────┘┌───────────┐ ░ ├───────────┤├───────────┤ ░              »\n",
              "«q_1: ──────■──────┤ RZ(θ[23]) ├─░─┤ RY(θ[25]) ├┤ RZ(θ[29]) ├─░───────■──────»\n",
              "«                  └─────┬─────┘ ░ ├───────────┤├───────────┤ ░ ┌─────┴─────┐»\n",
              "«q_2: ───────────────────■───────░─┤ RY(θ[26]) ├┤ RZ(θ[30]) ├─░─┤ RZ(θ[32]) ├»\n",
              "«                                ░ ├───────────┤├───────────┤ ░ └───────────┘»\n",
              "«q_3: ───────────────────────────░─┤ RY(θ[27]) ├┤ RZ(θ[31]) ├─░──────────────»\n",
              "«                                ░ └───────────┘└───────────┘ ░              »\n",
              "«                  ┌───────────┐              ░ ┌───────────┐┌───────────┐\n",
              "«q_0: ─────────────┤ RZ(θ[34]) ├──────■───────░─┤ RY(θ[36]) ├┤ RZ(θ[40]) ├\n",
              "«                  └─────┬─────┘┌─────┴─────┐ ░ ├───────────┤├───────────┤\n",
              "«q_1: ───────────────────┼──────┤ RZ(θ[35]) ├─░─┤ RY(θ[37]) ├┤ RZ(θ[41]) ├\n",
              "«                        │      └───────────┘ ░ ├───────────┤├───────────┤\n",
              "«q_2: ──────■────────────┼────────────────────░─┤ RY(θ[38]) ├┤ RZ(θ[42]) ├\n",
              "«     ┌─────┴─────┐      │                    ░ ├───────────┤├───────────┤\n",
              "«q_3: ┤ RZ(θ[33]) ├──────■────────────────────░─┤ RY(θ[39]) ├┤ RZ(θ[43]) ├\n",
              "«     └───────────┘                           ░ └───────────┘└───────────┘"
            ]
          },
          "metadata": {
            "tags": []
          },
          "execution_count": 6
        }
      ]
    },
    {
      "cell_type": "code",
      "metadata": {
        "colab": {
          "base_uri": "https://localhost:8080/"
        },
        "id": "ZaOk0fjUJKbV",
        "outputId": "539c882b-6a27-45b5-ef9c-607631bd04ea"
      },
      "source": [
        "feature_map = ZFeatureMap(feature_dimension=4, reps=1)\n",
        "optimizer = SPSA(maxiter=100)\n",
        "var_form = EfficientSU2(4,reps=3)\n",
        "vqc = VQC(optimizer, feature_map, var_form, training_input, test_input)\n",
        "\n",
        "backend = BasicAer.get_backend('qasm_simulator')\n",
        "quantum_instance = QuantumInstance(backend, shots=1024, seed_simulator=seed, seed_transpiler=seed)\n",
        "\n",
        "start=time.time()\n",
        "result = vqc.run(quantum_instance)\n",
        "end= time.time()\n",
        "print(\"training took \",end-start)\n",
        "params=vqc.optimal_params\n",
        "y_pred=vqc.predict(sample_test,quantum_instance,params=params)\n",
        "accuracy=classification_report(y_pred[1],label_test)\n",
        "print(accuracy)"
      ],
      "execution_count": null,
      "outputs": [
        {
          "output_type": "stream",
          "text": [
            "training took  509.36247539520264\n",
            "              precision    recall  f1-score   support\n",
            "\n",
            "           0       1.00      1.00      1.00        10\n",
            "           1       1.00      0.82      0.90        11\n",
            "           2       0.82      1.00      0.90         9\n",
            "\n",
            "    accuracy                           0.93        30\n",
            "   macro avg       0.94      0.94      0.93        30\n",
            "weighted avg       0.95      0.93      0.93        30\n",
            "\n"
          ],
          "name": "stdout"
        }
      ]
    },
    {
      "cell_type": "code",
      "metadata": {
        "colab": {
          "base_uri": "https://localhost:8080/"
        },
        "id": "c_KEUdMvJoCh",
        "outputId": "0bf35c42-2cd4-4ccf-9bce-e32e39a21c65"
      },
      "source": [
        "feature_map = ZFeatureMap(feature_dimension=4, reps=1)\n",
        "optimizer = SPSA(maxiter=120)\n",
        "var_form = TwoLocal(4, ['ry','rz'], 'crz', reps=3,entanglement='circular')\n",
        "vqc = VQC(optimizer, feature_map, var_form, training_input, test_input)\n",
        "\n",
        "backend = BasicAer.get_backend('qasm_simulator')\n",
        "quantum_instance = QuantumInstance(backend, shots=1024, seed_simulator=seed, seed_transpiler=seed)\n",
        "\n",
        "start=time.time()\n",
        "result = vqc.run(quantum_instance)\n",
        "end= time.time()\n",
        "print(\"training took \",end-start)\n",
        "params=vqc.optimal_params\n",
        "y_pred=vqc.predict(sample_test,quantum_instance,params=params)\n",
        "accuracy=classification_report(y_pred[1],label_test)\n",
        "print(accuracy)"
      ],
      "execution_count": null,
      "outputs": [
        {
          "output_type": "stream",
          "text": [
            "training took  815.8849918842316\n",
            "              precision    recall  f1-score   support\n",
            "\n",
            "           0       1.00      1.00      1.00        10\n",
            "           1       1.00      0.90      0.95        10\n",
            "           2       0.91      1.00      0.95        10\n",
            "\n",
            "    accuracy                           0.97        30\n",
            "   macro avg       0.97      0.97      0.97        30\n",
            "weighted avg       0.97      0.97      0.97        30\n",
            "\n"
          ],
          "name": "stdout"
        }
      ]
    },
    {
      "cell_type": "code",
      "metadata": {
        "id": "Va5Vm40cNv_6",
        "colab": {
          "base_uri": "https://localhost:8080/"
        },
        "outputId": "f02bb5a8-f8e0-4655-b42f-e1bc10cb3257"
      },
      "source": [
        "feature_map = ZFeatureMap(feature_dimension=4, reps=1)\n",
        "optimizer = SPSA(maxiter=120)\n",
        "var_form = TwoLocal(4, ['rz'], 'crz', reps=3,entanglement='circular')\n",
        "vqc = VQC(optimizer, feature_map, var_form, training_input, test_input)\n",
        "\n",
        "backend = BasicAer.get_backend('qasm_simulator')\n",
        "quantum_instance = QuantumInstance(backend, shots=1024, seed_simulator=seed, seed_transpiler=seed)\n",
        "\n",
        "start=time.time()\n",
        "result = vqc.run(quantum_instance)\n",
        "end= time.time()\n",
        "print(\"training took \",end-start)\n",
        "params=vqc.optimal_params\n",
        "y_pred=vqc.predict(sample_test,quantum_instance,params=params)\n",
        "accuracy=classification_report(y_pred[1],label_test)\n",
        "print(accuracy)"
      ],
      "execution_count": 8,
      "outputs": [
        {
          "output_type": "stream",
          "text": [
            "/usr/local/lib/python3.7/dist-packages/qiskit/aqua/components/optimizers/optimizer.py:50: DeprecationWarning: The package qiskit.aqua.components.optimizers is deprecated. It was moved/refactored to qiskit.algorithms.optimizers (pip install qiskit-terra). For more information see <https://github.com/Qiskit/qiskit-aqua/blob/master/README.md#migration-guide>\n",
            "  'qiskit.algorithms.optimizers', 'qiskit-terra')\n",
            "/usr/local/lib/python3.7/dist-packages/qiskit/aqua/algorithms/classifiers/vqc.py:98: DeprecationWarning: The package qiskit.aqua.algorithms.classifiers is deprecated. It was moved/refactored to qiskit_machine_learning.algorithms.classifiers (pip install qiskit-machine-learning). For more information see <https://github.com/Qiskit/qiskit-aqua/blob/master/README.md#migration-guide>\n",
            "  'qiskit-machine-learning')\n",
            "/usr/local/lib/python3.7/dist-packages/qiskit/aqua/algorithms/vq_algorithm.py:72: DeprecationWarning: The class qiskit.aqua.algorithms.VQAlgorithm is deprecated. It was moved/refactored to qiskit.algorithms.VariationalAlgorithm (pip install qiskit-terra). For more information see <https://github.com/Qiskit/qiskit-aqua/blob/master/README.md#migration-guide>\n",
            "  'qiskit-terra')\n",
            "/usr/local/lib/python3.7/dist-packages/qiskit/aqua/quantum_instance.py:137: DeprecationWarning: The class qiskit.aqua.QuantumInstance is deprecated. It was moved/refactored to qiskit.utils.QuantumInstance (pip install qiskit-terra). For more information see <https://github.com/Qiskit/qiskit-aqua/blob/master/README.md#migration-guide>\n",
            "  'qiskit-terra')\n",
            "/usr/local/lib/python3.7/dist-packages/qiskit/ml/__init__.py:40: DeprecationWarning: The package qiskit.ml is deprecated. It was moved/refactored to qiskit_machine_learning (pip install qiskit-machine-learning). For more information see <https://github.com/Qiskit/qiskit-aqua/blob/master/README.md#migration-guide>\n",
            "  warn_package('ml', 'qiskit_machine_learning', 'qiskit-machine-learning')\n"
          ],
          "name": "stderr"
        },
        {
          "output_type": "stream",
          "text": [
            "training took  661.326092004776\n",
            "              precision    recall  f1-score   support\n",
            "\n",
            "           0       0.00      0.00      0.00         0\n",
            "           1       1.00      0.30      0.46        30\n",
            "           2       0.00      0.00      0.00         0\n",
            "\n",
            "    accuracy                           0.30        30\n",
            "   macro avg       0.33      0.10      0.15        30\n",
            "weighted avg       1.00      0.30      0.46        30\n",
            "\n"
          ],
          "name": "stdout"
        },
        {
          "output_type": "stream",
          "text": [
            "/usr/local/lib/python3.7/dist-packages/sklearn/metrics/_classification.py:1272: UndefinedMetricWarning: Recall and F-score are ill-defined and being set to 0.0 in labels with no true samples. Use `zero_division` parameter to control this behavior.\n",
            "  _warn_prf(average, modifier, msg_start, len(result))\n"
          ],
          "name": "stderr"
        }
      ]
    },
    {
      "cell_type": "code",
      "metadata": {
        "id": "6MaSOgGOBv6R",
        "colab": {
          "base_uri": "https://localhost:8080/"
        },
        "outputId": "90565d0f-9af0-49b2-92ef-692368d17a61"
      },
      "source": [
        "feature_map = ZFeatureMap(feature_dimension=4, reps=1)\n",
        "optimizer = SPSA(maxiter=120)\n",
        "var_form = TwoLocal(4, ['rx', 'rz'], 'crz', reps=3,entanglement='circular')\n",
        "vqc = VQC(optimizer, feature_map, var_form, training_input, test_input)\n",
        "\n",
        "backend = BasicAer.get_backend('qasm_simulator')\n",
        "quantum_instance = QuantumInstance(backend, shots=1024, seed_simulator=seed, seed_transpiler=seed)\n",
        "\n",
        "start=time.time()\n",
        "result = vqc.run(quantum_instance)\n",
        "end= time.time()\n",
        "print(\"training took \",end-start)\n",
        "params=vqc.optimal_params\n",
        "y_pred=vqc.predict(sample_test,quantum_instance,params=params)\n",
        "accuracy=classification_report(y_pred[1],label_test)\n",
        "print(accuracy)"
      ],
      "execution_count": 11,
      "outputs": [
        {
          "output_type": "stream",
          "text": [
            "training took  807.7532076835632\n",
            "              precision    recall  f1-score   support\n",
            "\n",
            "           0       1.00      1.00      1.00        10\n",
            "           1       1.00      0.69      0.82        13\n",
            "           2       0.64      1.00      0.78         7\n",
            "\n",
            "    accuracy                           0.87        30\n",
            "   macro avg       0.88      0.90      0.87        30\n",
            "weighted avg       0.92      0.87      0.87        30\n",
            "\n"
          ],
          "name": "stdout"
        }
      ]
    },
    {
      "cell_type": "code",
      "metadata": {
        "id": "esc2gd6LaR7V"
      },
      "source": [
        ""
      ],
      "execution_count": null,
      "outputs": []
    }
  ]
}