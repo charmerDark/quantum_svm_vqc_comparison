{
  "nbformat": 4,
  "nbformat_minor": 0,
  "metadata": {
    "colab": {
      "name": "hons_qsvm_exp.ipynb",
      "provenance": [],
      "collapsed_sections": [],
      "authorship_tag": "ABX9TyOX5qlH97SfUBMXGsOaJHpb",
      "include_colab_link": true
    },
    "kernelspec": {
      "name": "python3",
      "display_name": "Python 3"
    },
    "language_info": {
      "name": "python"
    }
  },
  "cells": [
    {
      "cell_type": "markdown",
      "metadata": {
        "id": "view-in-github",
        "colab_type": "text"
      },
      "source": [
        "<a href=\"https://colab.research.google.com/github/charmerDark/quantum_svm_vqc_comparison/blob/main/hons_qsvm_exp.ipynb\" target=\"_parent\"><img src=\"https://colab.research.google.com/assets/colab-badge.svg\" alt=\"Open In Colab\"/></a>"
      ]
    },
    {
      "cell_type": "code",
      "metadata": {
        "id": "FoZU3suTLgzT"
      },
      "source": [
        "!pip install qiskit"
      ],
      "execution_count": null,
      "outputs": []
    },
    {
      "cell_type": "code",
      "metadata": {
        "id": "kuLdQa6gLlk-"
      },
      "source": [
        "import numpy as np\n",
        "\n",
        "from qiskit import BasicAer\n",
        "from qiskit.circuit.library import ZZFeatureMap,PauliFeatureMap\n",
        "from qiskit.aqua import QuantumInstance, aqua_globals\n",
        "from qiskit.aqua.algorithms import QSVM\n",
        "from qiskit.aqua.components.multiclass_extensions import AllPairs,OneAgainstRest\n",
        "from qiskit.aqua.utils.dataset_helper import get_feature_dimension\n",
        "\n",
        "import time\n",
        "\n",
        "from sklearn import datasets\n",
        "from sklearn.model_selection import train_test_split\n",
        "from sklearn.preprocessing import StandardScaler, MinMaxScaler\n",
        "from sklearn.metrics import classification_report"
      ],
      "execution_count": null,
      "outputs": []
    },
    {
      "cell_type": "code",
      "metadata": {
        "id": "6nM39bYPLwuZ"
      },
      "source": [
        "training_size=120\n",
        "test_size=30\n",
        "class_labels = [r'A', r'B', r'C']\n",
        "data, target = datasets.load_iris(return_X_y=True)\n",
        "sample_train, sample_test, label_train, label_test =train_test_split(data, target, test_size=30, random_state=42)\n",
        "std_scale = StandardScaler().fit(sample_train)\n",
        "sample_train = std_scale.transform(sample_train)\n",
        "sample_test = std_scale.transform(sample_test)\n",
        "samples = np.append(sample_train, sample_test, axis=0)\n",
        "minmax_scale = MinMaxScaler((-1, 1)).fit(samples)\n",
        "sample_train = minmax_scale.transform(sample_train)\n",
        "sample_test = minmax_scale.transform(sample_test)\n",
        "training_input = {key: (sample_train[label_train == k, :])[:training_size]\n",
        "                      for k, key in enumerate(class_labels)}\n",
        "test_input = {key: (sample_test[label_test == k, :])[:test_size]\n",
        "                  for k, key in enumerate(class_labels)}"
      ],
      "execution_count": null,
      "outputs": []
    },
    {
      "cell_type": "code",
      "metadata": {
        "id": "vEugk3-iO1Pm"
      },
      "source": [
        "class circuit_result():\n",
        "  '''\n",
        "  class to store details of each circuit and later pickle it\n",
        "  '''\n",
        "  def details(self):\n",
        "    print(\"Circuit type is: \\t\",self.circuit_type)\n",
        "    print(\"feature_map used is :\\t\",self.feature_map)\n",
        "    print(\"The paulis used were: \\t\",self.paulis)\n",
        "    print(\"The entanglement layout is \\t\",self.entanglement)\n",
        "    print(\"The repititions of feature map: \\t\",self.reps)\n",
        "    print(\"running time is : \\t\",self.running_time)\n",
        "    print(\"Accuracy report: \\n\",accuracy)\n",
        "    print(\"Circuit Depth: \\t\", self.depth)\n",
        "    print(\"Number of operations \\t\",self.count_ops)\n",
        "\n",
        "\n",
        "  def __init__(self,circuit_type,feature_map,time,accuracy,depth,count_ops,paulis,reps,entanglement):\n",
        "    self.circuit_type=circuit_type\n",
        "    self.feature_map=feature_map\n",
        "    self.running_time=time\n",
        "    self.accuracy=accuracy\n",
        "    self.depth=depth\n",
        "    self.count_ops=count_ops\n",
        "    self.paulis=paulis\n",
        "    self.reps=reps\n",
        "    self.entanglement=entanglement"
      ],
      "execution_count": null,
      "outputs": []
    },
    {
      "cell_type": "code",
      "metadata": {
        "colab": {
          "base_uri": "https://localhost:8080/"
        },
        "id": "N4f8h994RbHc",
        "outputId": "a29ef8a8-21ec-45e5-aa19-41ef29818c95"
      },
      "source": [
        "###main experiment loop\n",
        "exp_count=1\n",
        "experiments=[]\n",
        "paulis=[[\"Z\"],[\"X\"],[\"Y\"],[\"Z\",\"ZZ\"],[\"X\",\"ZZ\"],[\"Y\",\"ZZ\"]]\n",
        "entanglements=[\"linear\"]\n",
        "for pauli in paulis:\n",
        "  for entanglement in entanglements:\n",
        "    for reps in range(1,2):\n",
        "      backend = BasicAer.get_backend('qasm_simulator')\n",
        "      feature_map = PauliFeatureMap(feature_dimension=get_feature_dimension(training_input),paulis=pauli,\n",
        "                                reps=reps, entanglement=entanglement)\n",
        "      svm = QSVM(feature_map, training_input, test_input,\n",
        "                multiclass_extension=OneAgainstRest())\n",
        "      quantum_instance = QuantumInstance(backend, shots=1024,\n",
        "                                        seed_simulator=aqua_globals.random_seed,\n",
        "                                        seed_transpiler=aqua_globals.random_seed)\n",
        "\n",
        "      begin=time.time()\n",
        "      result = svm.run(quantum_instance)\n",
        "      end=time.time()\n",
        "      print(\"Training took \", end - begin, \" time\" )\n",
        "      ans=svm.predict(sample_test,quantum_instance=quantum_instance)\n",
        "      accuracy=classification_report(ans,label_test)\n",
        "      experiment=circuit_result(\"QSVM\",\"PauliFeatureMap\",end-begin,accuracy,svm.feature_map.depth(),svm.feature_map.count_ops(),pauli,reps,entanglement)\n",
        "      experiment.details()\n",
        "      experiments.append(experiment)"
      ],
      "execution_count": null,
      "outputs": [
        {
          "output_type": "stream",
          "text": [
            "/usr/local/lib/python3.7/dist-packages/qiskit/aqua/components/multiclass_extensions/multiclass_extension.py:34: DeprecationWarning: The package qiskit.aqua.components.multiclass_extensions is deprecated. For more information see <https://github.com/Qiskit/qiskit-aqua/blob/master/README.md#migration-guide>\n",
            "  warn_package('aqua.components.multiclass_extensions')\n",
            "/usr/local/lib/python3.7/dist-packages/qiskit/aqua/algorithms/classifiers/qsvm/qsvm.py:104: DeprecationWarning: The package qiskit.aqua.algorithms.classifiers is deprecated. It was moved/refactored to qiskit_machine_learning.algorithms.classifiers (pip install qiskit-machine-learning). For more information see <https://github.com/Qiskit/qiskit-aqua/blob/master/README.md#migration-guide>\n",
            "  'qiskit-machine-learning')\n",
            "/usr/local/lib/python3.7/dist-packages/ipykernel_launcher.py:15: DeprecationWarning: The variable qiskit.aqua.aqua_globals is deprecated. It was moved/refactored to qiskit.utils.aqua_globals (pip install qiskit-terra). For more information see <https://github.com/Qiskit/qiskit-aqua/blob/master/README.md#migration-guide>\n",
            "  from ipykernel import kernelapp as app\n",
            "/usr/local/lib/python3.7/dist-packages/qiskit/aqua/quantum_instance.py:137: DeprecationWarning: The class qiskit.aqua.QuantumInstance is deprecated. It was moved/refactored to qiskit.utils.QuantumInstance (pip install qiskit-terra). For more information see <https://github.com/Qiskit/qiskit-aqua/blob/master/README.md#migration-guide>\n",
            "  'qiskit-terra')\n"
          ],
          "name": "stderr"
        },
        {
          "output_type": "stream",
          "text": [
            "Training took  241.43737649917603  time\n",
            "Circuit tye is: \t QSVM\n",
            "feature_map used is :\t PauliFeatureMap\n",
            "The paulis used were: \t ['Z']\n",
            "The entanglement layout is \t linear\n",
            "The repititions of feature map: \t 1\n",
            "running time is : \t 241.43737649917603\n",
            "Accuracy report: \n",
            "               precision    recall  f1-score   support\n",
            "\n",
            "           0       1.00      1.00      1.00        10\n",
            "           1       1.00      1.00      1.00         9\n",
            "           2       1.00      1.00      1.00        11\n",
            "\n",
            "    accuracy                           1.00        30\n",
            "   macro avg       1.00      1.00      1.00        30\n",
            "weighted avg       1.00      1.00      1.00        30\n",
            "\n",
            "Circuit Depth: \t 2\n",
            "Number of operations \t OrderedDict([('h', 4), ('p', 4)])\n",
            "Training took  296.4930319786072  time\n"
          ],
          "name": "stdout"
        },
        {
          "output_type": "stream",
          "text": [
            "/usr/local/lib/python3.7/dist-packages/sklearn/metrics/_classification.py:1272: UndefinedMetricWarning: Recall and F-score are ill-defined and being set to 0.0 in labels with no true samples. Use `zero_division` parameter to control this behavior.\n",
            "  _warn_prf(average, modifier, msg_start, len(result))\n"
          ],
          "name": "stderr"
        },
        {
          "output_type": "stream",
          "text": [
            "Circuit tye is: \t QSVM\n",
            "feature_map used is :\t PauliFeatureMap\n",
            "The paulis used were: \t ['X']\n",
            "The entanglement layout is \t linear\n",
            "The repititions of feature map: \t 1\n",
            "running time is : \t 296.4930319786072\n",
            "Accuracy report: \n",
            "               precision    recall  f1-score   support\n",
            "\n",
            "           0       0.00      0.00      0.00         0\n",
            "           1       1.00      0.30      0.46        30\n",
            "           2       0.00      0.00      0.00         0\n",
            "\n",
            "    accuracy                           0.30        30\n",
            "   macro avg       0.33      0.10      0.15        30\n",
            "weighted avg       1.00      0.30      0.46        30\n",
            "\n",
            "Circuit Depth: \t 4\n",
            "Number of operations \t OrderedDict([('h', 12), ('p', 4)])\n",
            "Training took  235.09958672523499  time\n",
            "Circuit tye is: \t QSVM\n",
            "feature_map used is :\t PauliFeatureMap\n",
            "The paulis used were: \t ['Y']\n",
            "The entanglement layout is \t linear\n",
            "The repititions of feature map: \t 1\n",
            "running time is : \t 235.09958672523499\n",
            "Accuracy report: \n",
            "               precision    recall  f1-score   support\n",
            "\n",
            "           0       1.00      1.00      1.00        10\n",
            "           1       0.89      1.00      0.94         8\n",
            "           2       1.00      0.92      0.96        12\n",
            "\n",
            "    accuracy                           0.97        30\n",
            "   macro avg       0.96      0.97      0.97        30\n",
            "weighted avg       0.97      0.97      0.97        30\n",
            "\n",
            "Circuit Depth: \t 4\n",
            "Number of operations \t OrderedDict([('rx', 8), ('h', 4), ('p', 4)])\n",
            "Training took  442.31999468803406  time\n",
            "Circuit tye is: \t QSVM\n",
            "feature_map used is :\t PauliFeatureMap\n",
            "The paulis used were: \t ['Z', 'ZZ']\n",
            "The entanglement layout is \t linear\n",
            "The repititions of feature map: \t 1\n",
            "running time is : \t 442.31999468803406\n",
            "Accuracy report: \n",
            "               precision    recall  f1-score   support\n",
            "\n",
            "           0       1.00      0.91      0.95        11\n",
            "           1       1.00      0.90      0.95        10\n",
            "           2       0.82      1.00      0.90         9\n",
            "\n",
            "    accuracy                           0.93        30\n",
            "   macro avg       0.94      0.94      0.93        30\n",
            "weighted avg       0.95      0.93      0.93        30\n",
            "\n",
            "Circuit Depth: \t 11\n",
            "Number of operations \t OrderedDict([('p', 7), ('cx', 6), ('h', 4)])\n",
            "Training took  446.19819712638855  time\n",
            "Circuit tye is: \t QSVM\n",
            "feature_map used is :\t PauliFeatureMap\n",
            "The paulis used were: \t ['X', 'ZZ']\n",
            "The entanglement layout is \t linear\n",
            "The repititions of feature map: \t 1\n",
            "running time is : \t 446.19819712638855\n",
            "Accuracy report: \n",
            "               precision    recall  f1-score   support\n",
            "\n",
            "           0       0.70      0.78      0.74         9\n",
            "           1       0.89      0.53      0.67        15\n",
            "           2       0.27      0.50      0.35         6\n",
            "\n",
            "    accuracy                           0.60        30\n",
            "   macro avg       0.62      0.60      0.59        30\n",
            "weighted avg       0.71      0.60      0.62        30\n",
            "\n",
            "Circuit Depth: \t 13\n",
            "Number of operations \t OrderedDict([('h', 12), ('p', 7), ('cx', 6)])\n",
            "Training took  435.80549240112305  time\n",
            "Circuit tye is: \t QSVM\n",
            "feature_map used is :\t PauliFeatureMap\n",
            "The paulis used were: \t ['Y', 'ZZ']\n",
            "The entanglement layout is \t linear\n",
            "The repititions of feature map: \t 1\n",
            "running time is : \t 435.80549240112305\n",
            "Accuracy report: \n",
            "               precision    recall  f1-score   support\n",
            "\n",
            "           0       1.00      1.00      1.00        10\n",
            "           1       0.89      1.00      0.94         8\n",
            "           2       1.00      0.92      0.96        12\n",
            "\n",
            "    accuracy                           0.97        30\n",
            "   macro avg       0.96      0.97      0.97        30\n",
            "weighted avg       0.97      0.97      0.97        30\n",
            "\n",
            "Circuit Depth: \t 13\n",
            "Number of operations \t OrderedDict([('rx', 8), ('p', 7), ('cx', 6), ('h', 4)])\n"
          ],
          "name": "stdout"
        }
      ]
    },
    {
      "cell_type": "code",
      "metadata": {
        "colab": {
          "base_uri": "https://localhost:8080/",
          "height": 17
        },
        "id": "W_3Fme-_N8K5",
        "outputId": "8a1d38b9-adfe-4709-cdd9-765de511536c"
      },
      "source": [
        "import pickle\n",
        "with open(\"results\",\"wb\") as fil:\n",
        "  pickle.dump(experiments,fil)\n",
        "from google.colab import files\n",
        "files.download('results')"
      ],
      "execution_count": null,
      "outputs": [
        {
          "output_type": "display_data",
          "data": {
            "application/javascript": [
              "\n",
              "    async function download(id, filename, size) {\n",
              "      if (!google.colab.kernel.accessAllowed) {\n",
              "        return;\n",
              "      }\n",
              "      const div = document.createElement('div');\n",
              "      const label = document.createElement('label');\n",
              "      label.textContent = `Downloading \"${filename}\": `;\n",
              "      div.appendChild(label);\n",
              "      const progress = document.createElement('progress');\n",
              "      progress.max = size;\n",
              "      div.appendChild(progress);\n",
              "      document.body.appendChild(div);\n",
              "\n",
              "      const buffers = [];\n",
              "      let downloaded = 0;\n",
              "\n",
              "      const channel = await google.colab.kernel.comms.open(id);\n",
              "      // Send a message to notify the kernel that we're ready.\n",
              "      channel.send({})\n",
              "\n",
              "      for await (const message of channel.messages) {\n",
              "        // Send a message to notify the kernel that we're ready.\n",
              "        channel.send({})\n",
              "        if (message.buffers) {\n",
              "          for (const buffer of message.buffers) {\n",
              "            buffers.push(buffer);\n",
              "            downloaded += buffer.byteLength;\n",
              "            progress.value = downloaded;\n",
              "          }\n",
              "        }\n",
              "      }\n",
              "      const blob = new Blob(buffers, {type: 'application/binary'});\n",
              "      const a = document.createElement('a');\n",
              "      a.href = window.URL.createObjectURL(blob);\n",
              "      a.download = filename;\n",
              "      div.appendChild(a);\n",
              "      a.click();\n",
              "      div.remove();\n",
              "    }\n",
              "  "
            ],
            "text/plain": [
              "<IPython.core.display.Javascript object>"
            ]
          },
          "metadata": {
            "tags": []
          }
        },
        {
          "output_type": "display_data",
          "data": {
            "application/javascript": [
              "download(\"download_c24a73a1-87b7-4996-8a11-92864c9634f6\", \"results\", 3050)"
            ],
            "text/plain": [
              "<IPython.core.display.Javascript object>"
            ]
          },
          "metadata": {
            "tags": []
          }
        }
      ]
    }
  ]
}